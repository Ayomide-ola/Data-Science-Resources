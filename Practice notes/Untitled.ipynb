{
 "cells": [
  {
   "cell_type": "markdown",
   "id": "96583b7e-3a2f-4b1e-a9c6-0b934fe5424c",
   "metadata": {},
   "source": [
    "## Practicing weighted avaerage \n",
    "\n",
    "##### Consider this senerio:\n",
    "You work for an engineering company and you are analysisng the sensor reading from their new truck gas useag monitoring sensors. The engenier had told you they want to downplay the importance of reading produced from sensor a_555 and a_34 only because they are not important. how do you implement calculating weighted mean in python for 1,000000 records of sensors with consideration to the engineers request and explain what each element of the code means and does relative to out output overall"
   ]
  },
  {
   "cell_type": "code",
   "execution_count": 21,
   "id": "17bb2b49-ac01-4a5a-916e-b9f046994b0a",
   "metadata": {},
   "outputs": [],
   "source": [
    "import numpy as np\n",
    "\n",
    "np.random.seed(40)\n",
    "\n",
    "n = 1000000"
   ]
  },
  {
   "cell_type": "markdown",
   "id": "dbe45a47-a3c7-4782-9425-7514abcc1a62",
   "metadata": {},
   "source": [
    "The first 3 lines does the following in decending order: \n",
    "\n",
    "1. Import numpy package needed for mathematical calulations\n",
    "2. sets the seed of the random values generated at 40. This ensure the same sets of values will be generated each time this code is run, hence standardizing our output.\n",
    "3. This sets the number of random values to be generated, 1000000 was set because it was explicitly stated in the senerio given. "
   ]
  },
  {
   "cell_type": "code",
   "execution_count": 24,
   "id": "ef2ddea2-e130-4022-b790-010134cb1acd",
   "metadata": {},
   "outputs": [],
   "source": [
    "sens_id = np.random.choice(['a_34', 'a_555', 'a_123', 'a_999'], 1000000)"
   ]
  },
  {
   "cell_type": "markdown",
   "id": "870eaca5-0911-4407-80be-5361abd2ad90",
   "metadata": {},
   "source": [
    "***Simulating Data:***\n",
    "\n",
    "***sensor_ids:*** This array represents the sensor ID for each of the 1,000,000 records. We use np.random.choice to randomly assign sensor IDs but also assigned ***(a_555, a_34)*** explicitly because it was stated in the senerio briefe.\n",
    "\n",
    "***sensor_readings:*** This array holds the sensor readings, which are simulated using np.random.uniform(0, 100, 1000000) to generate 1,000,000 random values between 0 and 100.\n",
    "\n",
    "***weights:*** This array holds the weight of each sensor reading. Initially, every sensor has an equal weight of 1 (np.ones(1000000))."
   ]
  },
  {
   "cell_type": "code",
   "execution_count": 44,
   "id": "fedd82d4-bd6f-46b2-a758-be01a3866fc7",
   "metadata": {},
   "outputs": [],
   "source": [
    "sensor_readings = np.random.uniform(0, 100, n)"
   ]
  },
  {
   "cell_type": "markdown",
   "id": "254e32fa-a58e-4953-956d-5b5f37e2b85c",
   "metadata": {},
   "source": [
    "The ***'sensor_readings'*** contains the actual sensor readings, we used numpy to randomly generated sensor reading and set the range of reading between 0 and 100."
   ]
  },
  {
   "cell_type": "code",
   "execution_count": 33,
   "id": "fb9d4f75-67b7-416c-b6a5-ffa5a200833a",
   "metadata": {},
   "outputs": [],
   "source": [
    "weights = np.ones(1000000)"
   ]
  },
  {
   "cell_type": "markdown",
   "id": "960d1551-3e79-4213-a068-7e93536a0b47",
   "metadata": {},
   "source": [
    "***'weights'*** variable was assigned to a code that sets the weight of all sensor readings to 1.  "
   ]
  },
  {
   "cell_type": "code",
   "execution_count": 38,
   "id": "3a20e697-0f5d-4315-a97b-bc7dc51462fa",
   "metadata": {},
   "outputs": [],
   "source": [
    "weights[sens_id == 'a_555'] = 0.5  \n",
    "weights[sens_id == 'a_34'] = 0.5   "
   ]
  },
  {
   "cell_type": "markdown",
   "id": "28f7153b-980f-496c-87ba-edf4b0d141c1",
   "metadata": {},
   "source": [
    "As requested by the engineers, ***(a_555, a_34)*** was set to a lower value "
   ]
  },
  {
   "cell_type": "code",
   "execution_count": 40,
   "id": "5bbcc651-989b-4e74-82b1-471fbe5f84e2",
   "metadata": {},
   "outputs": [],
   "source": [
    "weighted_sum = np.sum(sensor_readings * weights)  \n",
    "sum_of_weights = np.sum(weights)"
   ]
  },
  {
   "cell_type": "code",
   "execution_count": 42,
   "id": "5f7f9be9-7c0d-43ce-a0c1-dbe0f07f1ae1",
   "metadata": {},
   "outputs": [
    {
     "name": "stdout",
     "output_type": "stream",
     "text": [
      "Weighted Mean: 50.01584300502846\n"
     ]
    }
   ],
   "source": [
    "weighted_mean = weighted_sum / sum_of_weights  # Weighted mean calculation\n",
    "\n",
    "print(f\"Weighted Mean: {weighted_mean}\")"
   ]
  },
  {
   "cell_type": "code",
   "execution_count": null,
   "id": "e1585378-d7b3-4918-b980-6d4378b9712c",
   "metadata": {},
   "outputs": [],
   "source": []
  }
 ],
 "metadata": {
  "kernelspec": {
   "display_name": "Python 3 (ipykernel)",
   "language": "python",
   "name": "python3"
  },
  "language_info": {
   "codemirror_mode": {
    "name": "ipython",
    "version": 3
   },
   "file_extension": ".py",
   "mimetype": "text/x-python",
   "name": "python",
   "nbconvert_exporter": "python",
   "pygments_lexer": "ipython3",
   "version": "3.12.4"
  }
 },
 "nbformat": 4,
 "nbformat_minor": 5
}
